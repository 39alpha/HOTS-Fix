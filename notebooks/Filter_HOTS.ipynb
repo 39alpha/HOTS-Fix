{
 "cells": [
  {
   "cell_type": "markdown",
   "id": "758e1f8a-57ff-4eda-bed5-4a1dcc0e3a6d",
   "metadata": {},
   "source": [
    "# Filter HOTS data based on conditions"
   ]
  },
  {
   "cell_type": "code",
   "execution_count": 12,
   "id": "c10eec9e-95cc-4070-aef2-74721bdcfa21",
   "metadata": {},
   "outputs": [],
   "source": [
    "library(tidyverse)"
   ]
  },
  {
   "cell_type": "code",
   "execution_count": 19,
   "id": "14c60d82-b986-4cf9-bd46-da14ce3c1b72",
   "metadata": {},
   "outputs": [],
   "source": [
    "complete_hots = read.csv(\"../data/raw-hots/combined_data.csv\")[-1]"
   ]
  },
  {
   "cell_type": "code",
   "execution_count": 20,
   "id": "7fd7a45c-f823-4483-8ec9-4aab93696534",
   "metadata": {},
   "outputs": [
    {
     "data": {
      "text/html": [
       "<table class=\"dataframe\">\n",
       "<caption>A data.frame: 6 × 33</caption>\n",
       "<thead>\n",
       "\t<tr><th></th><th scope=col>crn</th><th scope=col>stn</th><th scope=col>cast</th><th scope=col>mdate</th><th scope=col>press</th><th scope=col>theta</th><th scope=col>sigma</th><th scope=col>temp</th><th scope=col>csal</th><th scope=col>coxy</th><th scope=col>...</th><th scope=col>pc</th><th scope=col>pn</th><th scope=col>pp</th><th scope=col>lln</th><th scope=col>llp</th><th scope=col>atp</th><th scope=col>n2o</th><th scope=col>psi</th><th scope=col>p15n</th><th scope=col>no2</th></tr>\n",
       "\t<tr><th></th><th scope=col>&lt;dbl&gt;</th><th scope=col>&lt;dbl&gt;</th><th scope=col>&lt;dbl&gt;</th><th scope=col>&lt;dbl&gt;</th><th scope=col>&lt;dbl&gt;</th><th scope=col>&lt;dbl&gt;</th><th scope=col>&lt;dbl&gt;</th><th scope=col>&lt;dbl&gt;</th><th scope=col>&lt;dbl&gt;</th><th scope=col>&lt;dbl&gt;</th><th scope=col>...</th><th scope=col>&lt;dbl&gt;</th><th scope=col>&lt;dbl&gt;</th><th scope=col>&lt;dbl&gt;</th><th scope=col>&lt;dbl&gt;</th><th scope=col>&lt;dbl&gt;</th><th scope=col>&lt;dbl&gt;</th><th scope=col>&lt;dbl&gt;</th><th scope=col>&lt;dbl&gt;</th><th scope=col>&lt;dbl&gt;</th><th scope=col>&lt;dbl&gt;</th></tr>\n",
       "</thead>\n",
       "<tbody>\n",
       "\t<tr><th scope=row>1</th><td>45</td><td>8</td><td>1</td><td>   -9</td><td>   8.3</td><td>23.8029</td><td>23.523</td><td>23.8046</td><td>34.7664</td><td>167.2</td><td>...</td><td>-9</td><td>-9</td><td>-9</td><td>-9.0</td><td>-9</td><td>-9</td><td>-9</td><td>-9</td><td>-9</td><td>-9</td></tr>\n",
       "\t<tr><th scope=row>2</th><td>45</td><td>8</td><td>1</td><td>   -9</td><td> 103.1</td><td>21.1048</td><td>24.612</td><td>21.1246</td><td>35.1928</td><td>207.9</td><td>...</td><td>-9</td><td>-9</td><td>-9</td><td>-9.0</td><td>-9</td><td>-9</td><td>-9</td><td>-9</td><td>-9</td><td>-9</td></tr>\n",
       "\t<tr><th scope=row>3</th><td>45</td><td>8</td><td>1</td><td>   -9</td><td> 514.6</td><td> 6.7221</td><td>26.721</td><td> 6.7698</td><td>34.0667</td><td> 96.7</td><td>...</td><td>-9</td><td>-9</td><td>-9</td><td>-9.0</td><td>-9</td><td>-9</td><td>-9</td><td>-9</td><td>-9</td><td>-9</td></tr>\n",
       "\t<tr><th scope=row>4</th><td>45</td><td>8</td><td>1</td><td>   -9</td><td>1017.8</td><td> 3.7771</td><td>27.388</td><td> 3.8530</td><td>34.4710</td><td> 41.3</td><td>...</td><td>-9</td><td>-9</td><td>-9</td><td>-9.0</td><td>-9</td><td>-9</td><td>-9</td><td>-9</td><td>-9</td><td>-9</td></tr>\n",
       "\t<tr><th scope=row>5</th><td>80</td><td>8</td><td>1</td><td>21997</td><td>   4.7</td><td>23.8308</td><td>23.638</td><td>23.8318</td><td>34.9290</td><td>211.1</td><td>...</td><td>-9</td><td>-9</td><td>-9</td><td> 0.5</td><td>-9</td><td>-9</td><td>-9</td><td>-9</td><td>-9</td><td>-9</td></tr>\n",
       "\t<tr><th scope=row>6</th><td>80</td><td>8</td><td>1</td><td>21997</td><td>  12.9</td><td>23.8330</td><td>23.637</td><td>23.8357</td><td>34.9286</td><td>211.1</td><td>...</td><td>-9</td><td>-9</td><td>-9</td><td> 0.5</td><td>-9</td><td>-9</td><td>-9</td><td>-9</td><td>-9</td><td>-9</td></tr>\n",
       "</tbody>\n",
       "</table>\n"
      ],
      "text/latex": [
       "A data.frame: 6 × 33\n",
       "\\begin{tabular}{r|lllllllllllllllllllll}\n",
       "  & crn & stn & cast & mdate & press & theta & sigma & temp & csal & coxy & ... & pc & pn & pp & lln & llp & atp & n2o & psi & p15n & no2\\\\\n",
       "  & <dbl> & <dbl> & <dbl> & <dbl> & <dbl> & <dbl> & <dbl> & <dbl> & <dbl> & <dbl> & ... & <dbl> & <dbl> & <dbl> & <dbl> & <dbl> & <dbl> & <dbl> & <dbl> & <dbl> & <dbl>\\\\\n",
       "\\hline\n",
       "\t1 & 45 & 8 & 1 &    -9 &    8.3 & 23.8029 & 23.523 & 23.8046 & 34.7664 & 167.2 & ... & -9 & -9 & -9 & -9.0 & -9 & -9 & -9 & -9 & -9 & -9\\\\\n",
       "\t2 & 45 & 8 & 1 &    -9 &  103.1 & 21.1048 & 24.612 & 21.1246 & 35.1928 & 207.9 & ... & -9 & -9 & -9 & -9.0 & -9 & -9 & -9 & -9 & -9 & -9\\\\\n",
       "\t3 & 45 & 8 & 1 &    -9 &  514.6 &  6.7221 & 26.721 &  6.7698 & 34.0667 &  96.7 & ... & -9 & -9 & -9 & -9.0 & -9 & -9 & -9 & -9 & -9 & -9\\\\\n",
       "\t4 & 45 & 8 & 1 &    -9 & 1017.8 &  3.7771 & 27.388 &  3.8530 & 34.4710 &  41.3 & ... & -9 & -9 & -9 & -9.0 & -9 & -9 & -9 & -9 & -9 & -9\\\\\n",
       "\t5 & 80 & 8 & 1 & 21997 &    4.7 & 23.8308 & 23.638 & 23.8318 & 34.9290 & 211.1 & ... & -9 & -9 & -9 &  0.5 & -9 & -9 & -9 & -9 & -9 & -9\\\\\n",
       "\t6 & 80 & 8 & 1 & 21997 &   12.9 & 23.8330 & 23.637 & 23.8357 & 34.9286 & 211.1 & ... & -9 & -9 & -9 &  0.5 & -9 & -9 & -9 & -9 & -9 & -9\\\\\n",
       "\\end{tabular}\n"
      ],
      "text/markdown": [
       "\n",
       "A data.frame: 6 × 33\n",
       "\n",
       "| <!--/--> | crn &lt;dbl&gt; | stn &lt;dbl&gt; | cast &lt;dbl&gt; | mdate &lt;dbl&gt; | press &lt;dbl&gt; | theta &lt;dbl&gt; | sigma &lt;dbl&gt; | temp &lt;dbl&gt; | csal &lt;dbl&gt; | coxy &lt;dbl&gt; | ... ... | pc &lt;dbl&gt; | pn &lt;dbl&gt; | pp &lt;dbl&gt; | lln &lt;dbl&gt; | llp &lt;dbl&gt; | atp &lt;dbl&gt; | n2o &lt;dbl&gt; | psi &lt;dbl&gt; | p15n &lt;dbl&gt; | no2 &lt;dbl&gt; |\n",
       "|---|---|---|---|---|---|---|---|---|---|---|---|---|---|---|---|---|---|---|---|---|---|\n",
       "| 1 | 45 | 8 | 1 |    -9 |    8.3 | 23.8029 | 23.523 | 23.8046 | 34.7664 | 167.2 | ... | -9 | -9 | -9 | -9.0 | -9 | -9 | -9 | -9 | -9 | -9 |\n",
       "| 2 | 45 | 8 | 1 |    -9 |  103.1 | 21.1048 | 24.612 | 21.1246 | 35.1928 | 207.9 | ... | -9 | -9 | -9 | -9.0 | -9 | -9 | -9 | -9 | -9 | -9 |\n",
       "| 3 | 45 | 8 | 1 |    -9 |  514.6 |  6.7221 | 26.721 |  6.7698 | 34.0667 |  96.7 | ... | -9 | -9 | -9 | -9.0 | -9 | -9 | -9 | -9 | -9 | -9 |\n",
       "| 4 | 45 | 8 | 1 |    -9 | 1017.8 |  3.7771 | 27.388 |  3.8530 | 34.4710 |  41.3 | ... | -9 | -9 | -9 | -9.0 | -9 | -9 | -9 | -9 | -9 | -9 |\n",
       "| 5 | 80 | 8 | 1 | 21997 |    4.7 | 23.8308 | 23.638 | 23.8318 | 34.9290 | 211.1 | ... | -9 | -9 | -9 |  0.5 | -9 | -9 | -9 | -9 | -9 | -9 |\n",
       "| 6 | 80 | 8 | 1 | 21997 |   12.9 | 23.8330 | 23.637 | 23.8357 | 34.9286 | 211.1 | ... | -9 | -9 | -9 |  0.5 | -9 | -9 | -9 | -9 | -9 | -9 |\n",
       "\n"
      ],
      "text/plain": [
       "  crn stn cast mdate press  theta   sigma  temp    csal    coxy  ... pc pn pp\n",
       "1 45  8   1       -9    8.3 23.8029 23.523 23.8046 34.7664 167.2 ... -9 -9 -9\n",
       "2 45  8   1       -9  103.1 21.1048 24.612 21.1246 35.1928 207.9 ... -9 -9 -9\n",
       "3 45  8   1       -9  514.6  6.7221 26.721  6.7698 34.0667  96.7 ... -9 -9 -9\n",
       "4 45  8   1       -9 1017.8  3.7771 27.388  3.8530 34.4710  41.3 ... -9 -9 -9\n",
       "5 80  8   1    21997    4.7 23.8308 23.638 23.8318 34.9290 211.1 ... -9 -9 -9\n",
       "6 80  8   1    21997   12.9 23.8330 23.637 23.8357 34.9286 211.1 ... -9 -9 -9\n",
       "  lln  llp atp n2o psi p15n no2\n",
       "1 -9.0 -9  -9  -9  -9  -9   -9 \n",
       "2 -9.0 -9  -9  -9  -9  -9   -9 \n",
       "3 -9.0 -9  -9  -9  -9  -9   -9 \n",
       "4 -9.0 -9  -9  -9  -9  -9   -9 \n",
       "5  0.5 -9  -9  -9  -9  -9   -9 \n",
       "6  0.5 -9  -9  -9  -9  -9   -9 "
      ]
     },
     "metadata": {},
     "output_type": "display_data"
    }
   ],
   "source": [
    "head(complete_hots)"
   ]
  },
  {
   "cell_type": "markdown",
   "id": "a39b2c48-6810-4bf3-ab53-6764f451e419",
   "metadata": {},
   "source": [
    "Required Variables:\n",
    "- press\n",
    "- temp\n",
    "- dic\n",
    "- ph"
   ]
  },
  {
   "cell_type": "code",
   "execution_count": 21,
   "id": "fada8a10-eac6-4cb8-994e-cef458d5832c",
   "metadata": {},
   "outputs": [],
   "source": [
    "reduced_data = complete_hots %>% filter( press > 0,\n",
    "                                         temp > 0, \n",
    "                                         dic > 0,\n",
    "                                         ph > 0)\n"
   ]
  },
  {
   "cell_type": "code",
   "execution_count": 22,
   "id": "8a5e6ec8-4bcc-4cf7-8595-22a7656834dc",
   "metadata": {},
   "outputs": [
    {
     "data": {
      "text/html": [
       "4757"
      ],
      "text/latex": [
       "4757"
      ],
      "text/markdown": [
       "4757"
      ],
      "text/plain": [
       "[1] 4757"
      ]
     },
     "metadata": {},
     "output_type": "display_data"
    }
   ],
   "source": [
    "nrow(reduced_data)"
   ]
  },
  {
   "cell_type": "code",
   "execution_count": 23,
   "id": "ab31a189-795d-4bec-98bf-27cf08217203",
   "metadata": {},
   "outputs": [],
   "source": [
    "write.csv(reduced_data, \"../data/parsed/bare-minimum-requirements-2022.csv\")"
   ]
  },
  {
   "cell_type": "code",
   "execution_count": 24,
   "id": "ea45a91d-ef39-4d27-8768-40bbe549d9bf",
   "metadata": {},
   "outputs": [
    {
     "data": {
      "text/html": [
       "<style>\n",
       ".list-inline {list-style: none; margin:0; padding: 0}\n",
       ".list-inline>li {display: inline-block}\n",
       ".list-inline>li:not(:last-child)::after {content: \"\\00b7\"; padding: 0 .5ex}\n",
       "</style>\n",
       "<ol class=list-inline><li>'crn'</li><li>'stn'</li><li>'cast'</li><li>'mdate'</li><li>'press'</li><li>'theta'</li><li>'sigma'</li><li>'temp'</li><li>'csal'</li><li>'coxy'</li><li>'bsal'</li><li>'boxy'</li><li>'dic'</li><li>'ph'</li><li>'alk'</li><li>'phos'</li><li>'nit'</li><li>'sil'</li><li>'dop'</li><li>'don'</li><li>'doc'</li><li>'tdp'</li><li>'tdn'</li><li>'pc'</li><li>'pn'</li><li>'pp'</li><li>'lln'</li><li>'llp'</li><li>'atp'</li><li>'n2o'</li><li>'psi'</li><li>'p15n'</li><li>'no2'</li></ol>\n"
      ],
      "text/latex": [
       "\\begin{enumerate*}\n",
       "\\item 'crn'\n",
       "\\item 'stn'\n",
       "\\item 'cast'\n",
       "\\item 'mdate'\n",
       "\\item 'press'\n",
       "\\item 'theta'\n",
       "\\item 'sigma'\n",
       "\\item 'temp'\n",
       "\\item 'csal'\n",
       "\\item 'coxy'\n",
       "\\item 'bsal'\n",
       "\\item 'boxy'\n",
       "\\item 'dic'\n",
       "\\item 'ph'\n",
       "\\item 'alk'\n",
       "\\item 'phos'\n",
       "\\item 'nit'\n",
       "\\item 'sil'\n",
       "\\item 'dop'\n",
       "\\item 'don'\n",
       "\\item 'doc'\n",
       "\\item 'tdp'\n",
       "\\item 'tdn'\n",
       "\\item 'pc'\n",
       "\\item 'pn'\n",
       "\\item 'pp'\n",
       "\\item 'lln'\n",
       "\\item 'llp'\n",
       "\\item 'atp'\n",
       "\\item 'n2o'\n",
       "\\item 'psi'\n",
       "\\item 'p15n'\n",
       "\\item 'no2'\n",
       "\\end{enumerate*}\n"
      ],
      "text/markdown": [
       "1. 'crn'\n",
       "2. 'stn'\n",
       "3. 'cast'\n",
       "4. 'mdate'\n",
       "5. 'press'\n",
       "6. 'theta'\n",
       "7. 'sigma'\n",
       "8. 'temp'\n",
       "9. 'csal'\n",
       "10. 'coxy'\n",
       "11. 'bsal'\n",
       "12. 'boxy'\n",
       "13. 'dic'\n",
       "14. 'ph'\n",
       "15. 'alk'\n",
       "16. 'phos'\n",
       "17. 'nit'\n",
       "18. 'sil'\n",
       "19. 'dop'\n",
       "20. 'don'\n",
       "21. 'doc'\n",
       "22. 'tdp'\n",
       "23. 'tdn'\n",
       "24. 'pc'\n",
       "25. 'pn'\n",
       "26. 'pp'\n",
       "27. 'lln'\n",
       "28. 'llp'\n",
       "29. 'atp'\n",
       "30. 'n2o'\n",
       "31. 'psi'\n",
       "32. 'p15n'\n",
       "33. 'no2'\n",
       "\n",
       "\n"
      ],
      "text/plain": [
       " [1] \"crn\"   \"stn\"   \"cast\"  \"mdate\" \"press\" \"theta\" \"sigma\" \"temp\"  \"csal\" \n",
       "[10] \"coxy\"  \"bsal\"  \"boxy\"  \"dic\"   \"ph\"    \"alk\"   \"phos\"  \"nit\"   \"sil\"  \n",
       "[19] \"dop\"   \"don\"   \"doc\"   \"tdp\"   \"tdn\"   \"pc\"    \"pn\"    \"pp\"    \"lln\"  \n",
       "[28] \"llp\"   \"atp\"   \"n2o\"   \"psi\"   \"p15n\"  \"no2\"  "
      ]
     },
     "metadata": {},
     "output_type": "display_data"
    }
   ],
   "source": [
    "names(reduced_data)"
   ]
  },
  {
   "cell_type": "code",
   "execution_count": 25,
   "id": "480bcbc8-d256-4b50-a9f1-adc2483ad8eb",
   "metadata": {},
   "outputs": [],
   "source": [
    "reduced_data[reduced_data < 0] <- NA"
   ]
  },
  {
   "cell_type": "code",
   "execution_count": 26,
   "id": "f0bd276b-9f85-45a3-9b9b-8222f326ed63",
   "metadata": {},
   "outputs": [],
   "source": [
    "sub_data <- reduced_data[,c('crn','stn','cast','press',\n",
    "                            'theta','sigma','temp',\n",
    "                            'csal','coxy','dic','ph',\n",
    "                            'alk','phos','nit','sil',\n",
    "                            'doc')]"
   ]
  },
  {
   "cell_type": "code",
   "execution_count": 27,
   "id": "d7f6e437-b2a9-48f9-ac13-cc3b53118bd6",
   "metadata": {},
   "outputs": [
    {
     "data": {
      "text/html": [
       "2050"
      ],
      "text/latex": [
       "2050"
      ],
      "text/markdown": [
       "2050"
      ],
      "text/plain": [
       "[1] 2050"
      ]
     },
     "metadata": {},
     "output_type": "display_data"
    }
   ],
   "source": [
    "sum(complete.cases(sub_data))"
   ]
  },
  {
   "cell_type": "code",
   "execution_count": 28,
   "id": "21b834ae-39f8-46bf-9b26-4ff903d4141e",
   "metadata": {},
   "outputs": [],
   "source": [
    "idealized_data = sub_data[complete.cases(sub_data),]"
   ]
  },
  {
   "cell_type": "code",
   "execution_count": 29,
   "id": "b2c37410-b1db-43d3-899d-fa41d91e85ad",
   "metadata": {},
   "outputs": [
    {
     "data": {
      "text/html": [
       "<table class=\"dataframe\">\n",
       "<caption>A data.frame: 6 × 16</caption>\n",
       "<thead>\n",
       "\t<tr><th></th><th scope=col>crn</th><th scope=col>stn</th><th scope=col>cast</th><th scope=col>press</th><th scope=col>theta</th><th scope=col>sigma</th><th scope=col>temp</th><th scope=col>csal</th><th scope=col>coxy</th><th scope=col>dic</th><th scope=col>ph</th><th scope=col>alk</th><th scope=col>phos</th><th scope=col>nit</th><th scope=col>sil</th><th scope=col>doc</th></tr>\n",
       "\t<tr><th></th><th scope=col>&lt;dbl&gt;</th><th scope=col>&lt;dbl&gt;</th><th scope=col>&lt;dbl&gt;</th><th scope=col>&lt;dbl&gt;</th><th scope=col>&lt;dbl&gt;</th><th scope=col>&lt;dbl&gt;</th><th scope=col>&lt;dbl&gt;</th><th scope=col>&lt;dbl&gt;</th><th scope=col>&lt;dbl&gt;</th><th scope=col>&lt;dbl&gt;</th><th scope=col>&lt;dbl&gt;</th><th scope=col>&lt;dbl&gt;</th><th scope=col>&lt;dbl&gt;</th><th scope=col>&lt;dbl&gt;</th><th scope=col>&lt;dbl&gt;</th><th scope=col>&lt;dbl&gt;</th></tr>\n",
       "</thead>\n",
       "<tbody>\n",
       "\t<tr><th scope=row>80</th><td>44</td><td>2</td><td>5</td><td>130.4</td><td>22.6826</td><td>24.123</td><td>22.7090</td><td>35.1289</td><td>212.9</td><td>1978.8</td><td>8.089</td><td>2306</td><td>0.04</td><td> 0.04</td><td> 1.21</td><td>74.80</td></tr>\n",
       "\t<tr><th scope=row>82</th><td>45</td><td>2</td><td>5</td><td>527.3</td><td> 6.7852</td><td>26.712</td><td> 6.8344</td><td>34.0651</td><td>106.3</td><td>2218.1</td><td>7.509</td><td>2280</td><td>2.24</td><td>30.55</td><td>52.11</td><td>43.88</td></tr>\n",
       "\t<tr><th scope=row>83</th><td>45</td><td>2</td><td>5</td><td>801.3</td><td> 4.4885</td><td>27.207</td><td> 4.5511</td><td>34.3372</td><td> 30.2</td><td>2329.3</td><td>7.352</td><td>2337</td><td>3.03</td><td>41.19</td><td>99.78</td><td>42.31</td></tr>\n",
       "\t<tr><th scope=row>85</th><td>45</td><td>2</td><td>6</td><td>  5.1</td><td>23.7376</td><td>23.624</td><td>23.7387</td><td>34.8744</td><td>208.6</td><td>1957.0</td><td>8.102</td><td>2299</td><td>0.07</td><td> 0.00</td><td> 1.49</td><td>85.85</td></tr>\n",
       "\t<tr><th scope=row>86</th><td>45</td><td>2</td><td>6</td><td> 24.3</td><td>23.4176</td><td>23.770</td><td>23.4226</td><td>34.9434</td><td>209.5</td><td>1964.6</td><td>8.089</td><td>2304</td><td>0.07</td><td> 0.00</td><td> 1.21</td><td>88.49</td></tr>\n",
       "\t<tr><th scope=row>87</th><td>45</td><td>2</td><td>6</td><td> 45.4</td><td>22.8706</td><td>23.992</td><td>22.8798</td><td>35.0280</td><td>210.6</td><td>1975.0</td><td>8.087</td><td>2301</td><td>0.06</td><td> 0.01</td><td> 1.19</td><td>78.42</td></tr>\n",
       "</tbody>\n",
       "</table>\n"
      ],
      "text/latex": [
       "A data.frame: 6 × 16\n",
       "\\begin{tabular}{r|llllllllllllllll}\n",
       "  & crn & stn & cast & press & theta & sigma & temp & csal & coxy & dic & ph & alk & phos & nit & sil & doc\\\\\n",
       "  & <dbl> & <dbl> & <dbl> & <dbl> & <dbl> & <dbl> & <dbl> & <dbl> & <dbl> & <dbl> & <dbl> & <dbl> & <dbl> & <dbl> & <dbl> & <dbl>\\\\\n",
       "\\hline\n",
       "\t80 & 44 & 2 & 5 & 130.4 & 22.6826 & 24.123 & 22.7090 & 35.1289 & 212.9 & 1978.8 & 8.089 & 2306 & 0.04 &  0.04 &  1.21 & 74.80\\\\\n",
       "\t82 & 45 & 2 & 5 & 527.3 &  6.7852 & 26.712 &  6.8344 & 34.0651 & 106.3 & 2218.1 & 7.509 & 2280 & 2.24 & 30.55 & 52.11 & 43.88\\\\\n",
       "\t83 & 45 & 2 & 5 & 801.3 &  4.4885 & 27.207 &  4.5511 & 34.3372 &  30.2 & 2329.3 & 7.352 & 2337 & 3.03 & 41.19 & 99.78 & 42.31\\\\\n",
       "\t85 & 45 & 2 & 6 &   5.1 & 23.7376 & 23.624 & 23.7387 & 34.8744 & 208.6 & 1957.0 & 8.102 & 2299 & 0.07 &  0.00 &  1.49 & 85.85\\\\\n",
       "\t86 & 45 & 2 & 6 &  24.3 & 23.4176 & 23.770 & 23.4226 & 34.9434 & 209.5 & 1964.6 & 8.089 & 2304 & 0.07 &  0.00 &  1.21 & 88.49\\\\\n",
       "\t87 & 45 & 2 & 6 &  45.4 & 22.8706 & 23.992 & 22.8798 & 35.0280 & 210.6 & 1975.0 & 8.087 & 2301 & 0.06 &  0.01 &  1.19 & 78.42\\\\\n",
       "\\end{tabular}\n"
      ],
      "text/markdown": [
       "\n",
       "A data.frame: 6 × 16\n",
       "\n",
       "| <!--/--> | crn &lt;dbl&gt; | stn &lt;dbl&gt; | cast &lt;dbl&gt; | press &lt;dbl&gt; | theta &lt;dbl&gt; | sigma &lt;dbl&gt; | temp &lt;dbl&gt; | csal &lt;dbl&gt; | coxy &lt;dbl&gt; | dic &lt;dbl&gt; | ph &lt;dbl&gt; | alk &lt;dbl&gt; | phos &lt;dbl&gt; | nit &lt;dbl&gt; | sil &lt;dbl&gt; | doc &lt;dbl&gt; |\n",
       "|---|---|---|---|---|---|---|---|---|---|---|---|---|---|---|---|---|\n",
       "| 80 | 44 | 2 | 5 | 130.4 | 22.6826 | 24.123 | 22.7090 | 35.1289 | 212.9 | 1978.8 | 8.089 | 2306 | 0.04 |  0.04 |  1.21 | 74.80 |\n",
       "| 82 | 45 | 2 | 5 | 527.3 |  6.7852 | 26.712 |  6.8344 | 34.0651 | 106.3 | 2218.1 | 7.509 | 2280 | 2.24 | 30.55 | 52.11 | 43.88 |\n",
       "| 83 | 45 | 2 | 5 | 801.3 |  4.4885 | 27.207 |  4.5511 | 34.3372 |  30.2 | 2329.3 | 7.352 | 2337 | 3.03 | 41.19 | 99.78 | 42.31 |\n",
       "| 85 | 45 | 2 | 6 |   5.1 | 23.7376 | 23.624 | 23.7387 | 34.8744 | 208.6 | 1957.0 | 8.102 | 2299 | 0.07 |  0.00 |  1.49 | 85.85 |\n",
       "| 86 | 45 | 2 | 6 |  24.3 | 23.4176 | 23.770 | 23.4226 | 34.9434 | 209.5 | 1964.6 | 8.089 | 2304 | 0.07 |  0.00 |  1.21 | 88.49 |\n",
       "| 87 | 45 | 2 | 6 |  45.4 | 22.8706 | 23.992 | 22.8798 | 35.0280 | 210.6 | 1975.0 | 8.087 | 2301 | 0.06 |  0.01 |  1.19 | 78.42 |\n",
       "\n"
      ],
      "text/plain": [
       "   crn stn cast press theta   sigma  temp    csal    coxy  dic    ph    alk \n",
       "80 44  2   5    130.4 22.6826 24.123 22.7090 35.1289 212.9 1978.8 8.089 2306\n",
       "82 45  2   5    527.3  6.7852 26.712  6.8344 34.0651 106.3 2218.1 7.509 2280\n",
       "83 45  2   5    801.3  4.4885 27.207  4.5511 34.3372  30.2 2329.3 7.352 2337\n",
       "85 45  2   6      5.1 23.7376 23.624 23.7387 34.8744 208.6 1957.0 8.102 2299\n",
       "86 45  2   6     24.3 23.4176 23.770 23.4226 34.9434 209.5 1964.6 8.089 2304\n",
       "87 45  2   6     45.4 22.8706 23.992 22.8798 35.0280 210.6 1975.0 8.087 2301\n",
       "   phos nit   sil   doc  \n",
       "80 0.04  0.04  1.21 74.80\n",
       "82 2.24 30.55 52.11 43.88\n",
       "83 3.03 41.19 99.78 42.31\n",
       "85 0.07  0.00  1.49 85.85\n",
       "86 0.07  0.00  1.21 88.49\n",
       "87 0.06  0.01  1.19 78.42"
      ]
     },
     "metadata": {},
     "output_type": "display_data"
    }
   ],
   "source": [
    "head(idealized_data)"
   ]
  },
  {
   "cell_type": "code",
   "execution_count": 30,
   "id": "513f88c2-5a6c-4263-b536-d6d46d48e10c",
   "metadata": {},
   "outputs": [],
   "source": [
    "write.csv(idealized_data, \"../data/parsed/ideal-variables-2022.csv\")"
   ]
  },
  {
   "cell_type": "code",
   "execution_count": 31,
   "id": "5cd05322-f6f4-4b89-b234-2e9d560558e9",
   "metadata": {},
   "outputs": [],
   "source": [
    "min_max <- idealized_data %>% \n",
    "                select(-crn, -stn, -cast) %>%\n",
    "                summarise(across(everything(), list(min = min, max = max)))"
   ]
  },
  {
   "cell_type": "code",
   "execution_count": 33,
   "id": "d15878a5-63b5-4057-92e1-9bb8f2a0aecd",
   "metadata": {},
   "outputs": [],
   "source": [
    "write.csv(t(min_max), \"../data/parsed/min-max-idealized-vars-2022.csv\")"
   ]
  },
  {
   "cell_type": "code",
   "execution_count": null,
   "id": "36c8ff58-e8ea-483c-bb22-c015973275bf",
   "metadata": {},
   "outputs": [],
   "source": []
  }
 ],
 "metadata": {
  "kernelspec": {
   "display_name": "R",
   "language": "R",
   "name": "ir"
  },
  "language_info": {
   "codemirror_mode": "r",
   "file_extension": ".r",
   "mimetype": "text/x-r-source",
   "name": "R",
   "pygments_lexer": "r",
   "version": "4.1.1"
  }
 },
 "nbformat": 4,
 "nbformat_minor": 5
}
