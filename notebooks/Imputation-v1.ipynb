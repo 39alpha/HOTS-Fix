{
 "cells": [
  {
   "cell_type": "markdown",
   "metadata": {},
   "source": [
    "# Goals:\n",
    "- Accuracy using complete dataset to predict from GLM + RF in HOTS\n",
    "- Accuracy using only cast measurements to predict from GLM + RF in HOTS\n",
    "- Save RF and GLM models for both cases, document variable names"
   ]
  },
  {
   "cell_type": "code",
   "execution_count": 2,
   "metadata": {},
   "outputs": [],
   "source": [
    "library(tidyverse)\n",
    "library(flextable)\n",
    "library(randomForest)\n",
    "library(ggdark)\n"
   ]
  },
  {
   "cell_type": "markdown",
   "metadata": {},
   "source": [
    "### Read in the raw data"
   ]
  },
  {
   "cell_type": "code",
   "execution_count": 4,
   "metadata": {},
   "outputs": [
    {
     "data": {
      "text/html": [
       "2050"
      ],
      "text/latex": [
       "2050"
      ],
      "text/markdown": [
       "2050"
      ],
      "text/plain": [
       "[1] 2050"
      ]
     },
     "metadata": {},
     "output_type": "display_data"
    }
   ],
   "source": [
    "complete.hots <- read.csv(\"..\\\\data\\\\parsed\\\\ideal-variables-2022.csv\")\n",
    "complete.hots <- complete.hots %>% select(-X, -crn, -stn, -cast)\n",
    "nrow(complete.hots)"
   ]
  },
  {
   "cell_type": "markdown",
   "metadata": {},
   "source": [
    "### Center and Scale Data"
   ]
  },
  {
   "cell_type": "code",
   "execution_count": 5,
   "metadata": {},
   "outputs": [
    {
     "data": {
      "text/html": [
       "<table class=\"dataframe\">\n",
       "<caption>A data.frame: 6 × 13</caption>\n",
       "<thead>\n",
       "\t<tr><th></th><th scope=col>press</th><th scope=col>theta</th><th scope=col>sigma</th><th scope=col>temp</th><th scope=col>csal</th><th scope=col>coxy</th><th scope=col>dic</th><th scope=col>ph</th><th scope=col>alk</th><th scope=col>phos</th><th scope=col>nit</th><th scope=col>sil</th><th scope=col>doc</th></tr>\n",
       "\t<tr><th></th><th scope=col>&lt;dbl&gt;</th><th scope=col>&lt;dbl&gt;</th><th scope=col>&lt;dbl&gt;</th><th scope=col>&lt;dbl&gt;</th><th scope=col>&lt;dbl&gt;</th><th scope=col>&lt;dbl&gt;</th><th scope=col>&lt;dbl&gt;</th><th scope=col>&lt;dbl&gt;</th><th scope=col>&lt;dbl&gt;</th><th scope=col>&lt;dbl&gt;</th><th scope=col>&lt;dbl&gt;</th><th scope=col>&lt;dbl&gt;</th><th scope=col>&lt;dbl&gt;</th></tr>\n",
       "</thead>\n",
       "<tbody>\n",
       "\t<tr><th scope=row>1</th><td>-0.58625422</td><td> 1.1900681</td><td>-1.1637046</td><td> 1.1930152</td><td> 1.1757594</td><td> 0.9376275</td><td>-1.2159665</td><td> 1.2506828</td><td>-0.3260924</td><td>-1.1047632</td><td>-1.0877768</td><td>-0.8562089</td><td> 0.9928075</td></tr>\n",
       "\t<tr><th scope=row>2</th><td>-0.25479628</td><td>-0.6569428</td><td> 0.5606737</td><td>-0.6643846</td><td>-1.4488242</td><td>-0.6427110</td><td> 0.4375217</td><td>-0.8328306</td><td>-0.8323321</td><td> 0.7041805</td><td> 0.6797273</td><td> 0.0343405</td><td>-0.6370566</td></tr>\n",
       "\t<tr><th scope=row>3</th><td>-0.02597422</td><td>-0.9237807</td><td> 0.8903636</td><td>-0.9315410</td><td>-0.7775051</td><td>-1.7708889</td><td> 1.2058790</td><td>-1.3968161</td><td> 0.2775010</td><td> 1.3537557</td><td> 1.2961233</td><td> 0.8683776</td><td>-0.7198149</td></tr>\n",
       "\t<tr><th scope=row>4</th><td>-0.69089438</td><td> 1.3126414</td><td>-1.4960586</td><td> 1.3134947</td><td> 0.5478627</td><td> 0.8738803</td><td>-1.3665976</td><td> 1.2973822</td><td>-0.4623877</td><td>-1.0800958</td><td>-1.0900941</td><td>-0.8513100</td><td> 1.5752783</td></tr>\n",
       "\t<tr><th scope=row>5</th><td>-0.67486013</td><td> 1.2754628</td><td>-1.3988168</td><td> 1.2765096</td><td> 0.7180979</td><td> 0.8872227</td><td>-1.3140840</td><td> 1.2506828</td><td>-0.3650339</td><td>-1.0800958</td><td>-1.0900941</td><td>-0.8562089</td><td> 1.7144387</td></tr>\n",
       "\t<tr><th scope=row>6</th><td>-0.65723916</td><td> 1.2119106</td><td>-1.2509558</td><td> 1.2129996</td><td> 0.9268211</td><td> 0.9035301</td><td>-1.2422233</td><td> 1.2434983</td><td>-0.4234462</td><td>-1.0883183</td><td>-1.0895148</td><td>-0.8565588</td><td> 1.1836259</td></tr>\n",
       "</tbody>\n",
       "</table>\n"
      ],
      "text/latex": [
       "A data.frame: 6 × 13\n",
       "\\begin{tabular}{r|lllllllllllll}\n",
       "  & press & theta & sigma & temp & csal & coxy & dic & ph & alk & phos & nit & sil & doc\\\\\n",
       "  & <dbl> & <dbl> & <dbl> & <dbl> & <dbl> & <dbl> & <dbl> & <dbl> & <dbl> & <dbl> & <dbl> & <dbl> & <dbl>\\\\\n",
       "\\hline\n",
       "\t1 & -0.58625422 &  1.1900681 & -1.1637046 &  1.1930152 &  1.1757594 &  0.9376275 & -1.2159665 &  1.2506828 & -0.3260924 & -1.1047632 & -1.0877768 & -0.8562089 &  0.9928075\\\\\n",
       "\t2 & -0.25479628 & -0.6569428 &  0.5606737 & -0.6643846 & -1.4488242 & -0.6427110 &  0.4375217 & -0.8328306 & -0.8323321 &  0.7041805 &  0.6797273 &  0.0343405 & -0.6370566\\\\\n",
       "\t3 & -0.02597422 & -0.9237807 &  0.8903636 & -0.9315410 & -0.7775051 & -1.7708889 &  1.2058790 & -1.3968161 &  0.2775010 &  1.3537557 &  1.2961233 &  0.8683776 & -0.7198149\\\\\n",
       "\t4 & -0.69089438 &  1.3126414 & -1.4960586 &  1.3134947 &  0.5478627 &  0.8738803 & -1.3665976 &  1.2973822 & -0.4623877 & -1.0800958 & -1.0900941 & -0.8513100 &  1.5752783\\\\\n",
       "\t5 & -0.67486013 &  1.2754628 & -1.3988168 &  1.2765096 &  0.7180979 &  0.8872227 & -1.3140840 &  1.2506828 & -0.3650339 & -1.0800958 & -1.0900941 & -0.8562089 &  1.7144387\\\\\n",
       "\t6 & -0.65723916 &  1.2119106 & -1.2509558 &  1.2129996 &  0.9268211 &  0.9035301 & -1.2422233 &  1.2434983 & -0.4234462 & -1.0883183 & -1.0895148 & -0.8565588 &  1.1836259\\\\\n",
       "\\end{tabular}\n"
      ],
      "text/markdown": [
       "\n",
       "A data.frame: 6 × 13\n",
       "\n",
       "| <!--/--> | press &lt;dbl&gt; | theta &lt;dbl&gt; | sigma &lt;dbl&gt; | temp &lt;dbl&gt; | csal &lt;dbl&gt; | coxy &lt;dbl&gt; | dic &lt;dbl&gt; | ph &lt;dbl&gt; | alk &lt;dbl&gt; | phos &lt;dbl&gt; | nit &lt;dbl&gt; | sil &lt;dbl&gt; | doc &lt;dbl&gt; |\n",
       "|---|---|---|---|---|---|---|---|---|---|---|---|---|---|\n",
       "| 1 | -0.58625422 |  1.1900681 | -1.1637046 |  1.1930152 |  1.1757594 |  0.9376275 | -1.2159665 |  1.2506828 | -0.3260924 | -1.1047632 | -1.0877768 | -0.8562089 |  0.9928075 |\n",
       "| 2 | -0.25479628 | -0.6569428 |  0.5606737 | -0.6643846 | -1.4488242 | -0.6427110 |  0.4375217 | -0.8328306 | -0.8323321 |  0.7041805 |  0.6797273 |  0.0343405 | -0.6370566 |\n",
       "| 3 | -0.02597422 | -0.9237807 |  0.8903636 | -0.9315410 | -0.7775051 | -1.7708889 |  1.2058790 | -1.3968161 |  0.2775010 |  1.3537557 |  1.2961233 |  0.8683776 | -0.7198149 |\n",
       "| 4 | -0.69089438 |  1.3126414 | -1.4960586 |  1.3134947 |  0.5478627 |  0.8738803 | -1.3665976 |  1.2973822 | -0.4623877 | -1.0800958 | -1.0900941 | -0.8513100 |  1.5752783 |\n",
       "| 5 | -0.67486013 |  1.2754628 | -1.3988168 |  1.2765096 |  0.7180979 |  0.8872227 | -1.3140840 |  1.2506828 | -0.3650339 | -1.0800958 | -1.0900941 | -0.8562089 |  1.7144387 |\n",
       "| 6 | -0.65723916 |  1.2119106 | -1.2509558 |  1.2129996 |  0.9268211 |  0.9035301 | -1.2422233 |  1.2434983 | -0.4234462 | -1.0883183 | -1.0895148 | -0.8565588 |  1.1836259 |\n",
       "\n"
      ],
      "text/plain": [
       "  press       theta      sigma      temp       csal       coxy       dic       \n",
       "1 -0.58625422  1.1900681 -1.1637046  1.1930152  1.1757594  0.9376275 -1.2159665\n",
       "2 -0.25479628 -0.6569428  0.5606737 -0.6643846 -1.4488242 -0.6427110  0.4375217\n",
       "3 -0.02597422 -0.9237807  0.8903636 -0.9315410 -0.7775051 -1.7708889  1.2058790\n",
       "4 -0.69089438  1.3126414 -1.4960586  1.3134947  0.5478627  0.8738803 -1.3665976\n",
       "5 -0.67486013  1.2754628 -1.3988168  1.2765096  0.7180979  0.8872227 -1.3140840\n",
       "6 -0.65723916  1.2119106 -1.2509558  1.2129996  0.9268211  0.9035301 -1.2422233\n",
       "  ph         alk        phos       nit        sil        doc       \n",
       "1  1.2506828 -0.3260924 -1.1047632 -1.0877768 -0.8562089  0.9928075\n",
       "2 -0.8328306 -0.8323321  0.7041805  0.6797273  0.0343405 -0.6370566\n",
       "3 -1.3968161  0.2775010  1.3537557  1.2961233  0.8683776 -0.7198149\n",
       "4  1.2973822 -0.4623877 -1.0800958 -1.0900941 -0.8513100  1.5752783\n",
       "5  1.2506828 -0.3650339 -1.0800958 -1.0900941 -0.8562089  1.7144387\n",
       "6  1.2434983 -0.4234462 -1.0883183 -1.0895148 -0.8565588  1.1836259"
      ]
     },
     "metadata": {},
     "output_type": "display_data"
    }
   ],
   "source": [
    "scaled.hots <- as.data.frame(scale(complete.hots, center = TRUE))\n",
    "head(scaled.hots)"
   ]
  },
  {
   "cell_type": "markdown",
   "metadata": {},
   "source": [
    "### Quick Function to generate test/train splits"
   ]
  },
  {
   "cell_type": "code",
   "execution_count": 6,
   "metadata": {},
   "outputs": [],
   "source": [
    "train.test.split <- function(n, test.p){\n",
    "    test.num = floor(n*test.p)\n",
    "    test.indices = sample(1:n, test.num, replace = FALSE)\n",
    "    train.indices = 1:n\n",
    "    train.indice = train.indices[!train.indices %in% test.indices]\n",
    "    \n",
    "    return(list(test.indices = test.indices, train.indices= train.indices))\n",
    "}"
   ]
  },
  {
   "cell_type": "code",
   "execution_count": 7,
   "metadata": {},
   "outputs": [],
   "source": [
    "splits <- train.test.split(nrow(scaled.hots),0.5)\n",
    "#splits$test.indices"
   ]
  },
  {
   "cell_type": "markdown",
   "metadata": {},
   "source": [
    "### Let's start modeling.\n",
    "### First we'll try to predict an interesting variable (pH) with all the other rows"
   ]
  },
  {
   "cell_type": "code",
   "execution_count": 8,
   "metadata": {},
   "outputs": [],
   "source": [
    "ph.complete.glm <- glm(ph ~ . , data = scaled.hots[splits$train.indices,])"
   ]
  },
  {
   "cell_type": "code",
   "execution_count": 9,
   "metadata": {},
   "outputs": [
    {
     "data": {
      "text/plain": [
       "\n",
       "Call:\n",
       "glm(formula = ph ~ ., data = scaled.hots[splits$train.indices, \n",
       "    ])\n",
       "\n",
       "Deviance Residuals: \n",
       "      Min         1Q     Median         3Q        Max  \n",
       "-0.224166  -0.018198   0.000656   0.019091   0.187931  \n",
       "\n",
       "Coefficients:\n",
       "              Estimate Std. Error t value Pr(>|t|)    \n",
       "(Intercept)  5.380e-15  7.209e-04   0.000 1.000000    \n",
       "press       -2.197e-01  3.332e-02  -6.594 5.42e-11 ***\n",
       "theta       -1.555e+01  2.382e+00  -6.528 8.42e-11 ***\n",
       "sigma       -1.932e-01  5.435e-02  -3.556 0.000386 ***\n",
       "temp         1.517e+01  2.332e+00   6.507 9.61e-11 ***\n",
       "csal         9.812e-02  1.370e-02   7.163 1.10e-12 ***\n",
       "coxy         1.356e-01  9.351e-03  14.497  < 2e-16 ***\n",
       "dic         -7.005e-01  1.666e-02 -42.056  < 2e-16 ***\n",
       "alk          9.772e-02  9.282e-03  10.528  < 2e-16 ***\n",
       "phos        -1.120e-01  2.973e-02  -3.768 0.000170 ***\n",
       "nit         -3.448e-01  3.704e-02  -9.310  < 2e-16 ***\n",
       "sil          3.005e-01  1.609e-02  18.680  < 2e-16 ***\n",
       "doc          3.440e-03  2.307e-03   1.491 0.136208    \n",
       "---\n",
       "Signif. codes:  0 '***' 0.001 '**' 0.01 '*' 0.05 '.' 0.1 ' ' 1\n",
       "\n",
       "(Dispersion parameter for gaussian family taken to be 0.001065469)\n",
       "\n",
       "    Null deviance: 2049.0000  on 2049  degrees of freedom\n",
       "Residual deviance:    2.1704  on 2037  degrees of freedom\n",
       "AIC: -8198.3\n",
       "\n",
       "Number of Fisher Scoring iterations: 2\n"
      ]
     },
     "metadata": {},
     "output_type": "display_data"
    }
   ],
   "source": [
    "summary(ph.complete.glm)"
   ]
  },
  {
   "cell_type": "markdown",
   "metadata": {},
   "source": [
    "## A GLM fit does pretty well, apparently theres some significant correlations all over the data"
   ]
  },
  {
   "cell_type": "code",
   "execution_count": 10,
   "metadata": {},
   "outputs": [],
   "source": [
    "#plot(ph.complete.glm)"
   ]
  },
  {
   "cell_type": "code",
   "execution_count": 11,
   "metadata": {},
   "outputs": [],
   "source": [
    "predicted.ph <- predict(ph.complete.glm, newdata = scaled.hots[splits$test.indices,])"
   ]
  },
  {
   "cell_type": "code",
   "execution_count": 12,
   "metadata": {},
   "outputs": [],
   "source": [
    "prediction.dat <- scaled.hots[splits$test.indices,]\n",
    "prediction.dat$preds <- predicted.ph"
   ]
  },
  {
   "cell_type": "code",
   "execution_count": 13,
   "metadata": {},
   "outputs": [
    {
     "data": {
      "image/png": "[encoded data removed]",
      "text/plain": [
       "plot without title"
      ]
     },
     "metadata": {
      "image/png": {
       "height": 420,
       "width": 420
      }
     },
     "output_type": "display_data"
    }
   ],
   "source": [
    "ggplot(prediction.dat) + \n",
    "    geom_point(aes(x = preds, y = ph)) +\n",
    "    geom_abline(slope = 1)"
   ]
  },
  {
   "cell_type": "code",
   "execution_count": 14,
   "metadata": {},
   "outputs": [],
   "source": [
    "CV <- mean(sqrt((prediction.dat$ph - prediction.dat$preds)^2))"
   ]
  },
  {
   "cell_type": "code",
   "execution_count": 15,
   "metadata": {},
   "outputs": [
    {
     "data": {
      "text/html": [
       "0.0241311431648984"
      ],
      "text/latex": [
       "0.0241311431648984"
      ],
      "text/markdown": [
       "0.0241311431648984"
      ],
      "text/plain": [
       "[1] 0.02413114"
      ]
     },
     "metadata": {},
     "output_type": "display_data"
    }
   ],
   "source": [
    "CV#*sqrt(var(complete.hots$sil))"
   ]
  },
  {
   "cell_type": "markdown",
   "metadata": {},
   "source": [
    "# Those seem like solid predictions... Let's see what we can do with less data"
   ]
  },
  {
   "cell_type": "code",
   "execution_count": 16,
   "metadata": {},
   "outputs": [],
   "source": [
    "ph.minimal.glm <- glm(ph ~ temp + csal + press + coxy , data = scaled.hots[splits$train.indices,])"
   ]
  },
  {
   "cell_type": "code",
   "execution_count": 17,
   "metadata": {},
   "outputs": [
    {
     "data": {
      "text/plain": [
       "\n",
       "Call:\n",
       "glm(formula = ph ~ temp + csal + press + coxy, data = scaled.hots[splits$train.indices, \n",
       "    ])\n",
       "\n",
       "Deviance Residuals: \n",
       "      Min         1Q     Median         3Q        Max  \n",
       "-0.279280  -0.056786   0.007566   0.055890   0.297936  \n",
       "\n",
       "Coefficients:\n",
       "              Estimate Std. Error t value Pr(>|t|)    \n",
       "(Intercept) -1.763e-15  1.695e-03   0.000    1.000    \n",
       "temp         4.633e-01  7.480e-03  61.934   <2e-16 ***\n",
       "csal         1.091e-01  3.730e-03  29.241   <2e-16 ***\n",
       "press        1.077e-02  4.231e-03   2.545    0.011 *  \n",
       "coxy         5.136e-01  3.642e-03 141.031   <2e-16 ***\n",
       "---\n",
       "Signif. codes:  0 '***' 0.001 '**' 0.01 '*' 0.05 '.' 0.1 ' ' 1\n",
       "\n",
       "(Dispersion parameter for gaussian family taken to be 0.005887812)\n",
       "\n",
       "    Null deviance: 2049.000  on 2049  degrees of freedom\n",
       "Residual deviance:   12.041  on 2045  degrees of freedom\n",
       "AIC: -4701.8\n",
       "\n",
       "Number of Fisher Scoring iterations: 2\n"
      ]
     },
     "metadata": {},
     "output_type": "display_data"
    }
   ],
   "source": [
    "summary(ph.minimal.glm)"
   ]
  },
  {
   "cell_type": "code",
   "execution_count": 18,
   "metadata": {},
   "outputs": [],
   "source": [
    "#plot(sil.minimal.glm)"
   ]
  },
  {
   "cell_type": "code",
   "execution_count": 19,
   "metadata": {},
   "outputs": [
    {
     "data": {
      "text/html": [
       "0.0621706030377428"
      ],
      "text/latex": [
       "0.0621706030377428"
      ],
      "text/markdown": [
       "0.0621706030377428"
      ],
      "text/plain": [
       "[1] 0.0621706"
      ]
     },
     "metadata": {},
     "output_type": "display_data"
    },
    {
     "data": {
      "image/png": "[encoded data removed]",
      "text/plain": [
       "plot without title"
      ]
     },
     "metadata": {
      "image/png": {
       "height": 420,
       "width": 420
      }
     },
     "output_type": "display_data"
    }
   ],
   "source": [
    "minimal.predicted.ph <- predict(ph.minimal.glm, newdata = scaled.hots[splits$test.indices,])\n",
    "minimal.prediction.dat <- scaled.hots[splits$test.indices,]\n",
    "minimal.prediction.dat$preds <- minimal.predicted.ph\n",
    "\n",
    "ggplot(minimal.prediction.dat) + geom_point(aes(x = preds, y = ph)) + geom_abline(slope = 1)\n",
    "\n",
    "CV <- mean(sqrt((minimal.prediction.dat$ph - minimal.prediction.dat$preds)^2))\n",
    "CV"
   ]
  },
  {
   "cell_type": "markdown",
   "metadata": {},
   "source": [
    "# Not as good, but there's something there. Maybe we need more flexibility to pick up some non-linearities, lets try a random forest"
   ]
  },
  {
   "cell_type": "markdown",
   "metadata": {},
   "source": [
    "## As a comparison we'll use the entire dataset again\n",
    "\n",
    "### Use pH first"
   ]
  },
  {
   "cell_type": "code",
   "execution_count": 21,
   "metadata": {},
   "outputs": [
    {
     "data": {
      "text/html": [
       "0.00665555590391377"
      ],
      "text/latex": [
       "0.00665555590391377"
      ],
      "text/markdown": [
       "0.00665555590391377"
      ],
      "text/plain": [
       "[1] 0.006655556"
      ]
     },
     "metadata": {},
     "output_type": "display_data"
    },
    {
     "data": {
      "image/png": "[encoded data removed]",
      "text/plain": [
       "Plot with title \"complete.ph.rf\""
      ]
     },
     "metadata": {
      "image/png": {
       "height": 420,
       "width": 420
      }
     },
     "output_type": "display_data"
    },
    {
     "data": {
      "image/png": "[encoded data removed]",
      "text/plain": [
       "plot without title"
      ]
     },
     "metadata": {
      "image/png": {
       "height": 420,
       "width": 420
      }
     },
     "output_type": "display_data"
    }
   ],
   "source": [
    "complete.ph.rf <- randomForest(ph ~ . , data = scaled.hots[splits$train.indices,])\n",
    "plot(complete.ph.rf)\n",
    "complete.predicted.ph <- predict(complete.ph.rf, newdata = scaled.hots[splits$test.indices,])\n",
    "complete.rf.prediction.dat <- scaled.hots[splits$test.indices,]\n",
    "complete.rf.prediction.dat$preds <- complete.predicted.ph\n",
    "CV <- mean(sqrt((complete.rf.prediction.dat$ph - complete.rf.prediction.dat$preds)^2))\n",
    "CV\n",
    "\n",
    "p <- ggplot(complete.rf.prediction.dat) + \n",
    "        geom_point(aes(x = preds, y = ph)) + \n",
    "        geom_abline() + \n",
    "        labs(x = \"Predicted pH \\n (arbitary units)\",\n",
    "             y = \"Observed pH \\n (arbitary units)\",\n",
    "             title = \"pH Random Forest, Complete Data\") + \n",
    "        dark_theme_bw(base_size =12) \n",
    "p\n",
    "#ggsave(\"pH_accuracy_RF_complete_data.svg\", p, width = 89, height = 89, units = \"mm\")"
   ]
  },
  {
   "cell_type": "code",
   "execution_count": 22,
   "metadata": {},
   "outputs": [
    {
     "data": {
      "text/html": [
       "0.00653848302318533"
      ],
      "text/latex": [
       "0.00653848302318533"
      ],
      "text/markdown": [
       "0.00653848302318533"
      ],
      "text/plain": [
       "[1] 0.006538483"
      ]
     },
     "metadata": {},
     "output_type": "display_data"
    },
    {
     "data": {
      "image/png": "[encoded data removed]",
      "text/plain": [
       "Plot with title \"complete.dic.rf\""
      ]
     },
     "metadata": {
      "image/png": {
       "height": 420,
       "width": 420
      }
     },
     "output_type": "display_data"
    },
    {
     "data": {
      "image/png": "[encoded data removed]",
      "text/plain": [
       "plot without title"
      ]
     },
     "metadata": {
      "image/png": {
       "height": 420,
       "width": 420
      }
     },
     "output_type": "display_data"
    }
   ],
   "source": [
    "complete.dic.rf <- randomForest(dic ~ . , data = scaled.hots[splits$train.indices,])\n",
    "plot(complete.dic.rf)\n",
    "complete.predicted.dic <- predict(complete.dic.rf, newdata = scaled.hots[splits$test.indices,])\n",
    "complete.rf.prediction.dat <- scaled.hots[splits$test.indices,]\n",
    "complete.rf.prediction.dat$preds <- complete.predicted.dic\n",
    "CV <- mean(sqrt((complete.rf.prediction.dat$dic - complete.rf.prediction.dat$preds)^2))\n",
    "CV\n",
    "\n",
    "p <- ggplot(complete.rf.prediction.dat) + \n",
    "        geom_point(aes(x = preds, y = dic)) + \n",
    "        geom_abline() + \n",
    "        labs(x = \"Predicted DIC \\n (arbitary units)\",\n",
    "             y = \"Observed DIC \\n (arbitrary units)\",\n",
    "             title = \"DIC Random Forest, Complete Data\") + \n",
    "        dark_theme_bw(base_size =12) \n",
    "p\n",
    "# ggsave(\"dic_accuracy_RF_complete_data.svg\", p, width = 89, height = 89, units = \"mm\")"
   ]
  },
  {
   "cell_type": "markdown",
   "metadata": {},
   "source": [
    "# Seems consistent with the glm model we had. Let's reduce the input varaibles and see how we do "
   ]
  },
  {
   "cell_type": "code",
   "execution_count": 24,
   "metadata": {},
   "outputs": [
    {
     "data": {
      "text/html": [
       "0.999827673248487"
      ],
      "text/latex": [
       "0.999827673248487"
      ],
      "text/markdown": [
       "0.999827673248487"
      ],
      "text/plain": [
       "[1] 0.9998277"
      ]
     },
     "metadata": {},
     "output_type": "display_data"
    },
    {
     "data": {
      "text/html": [
       "0.0132889981539464"
      ],
      "text/latex": [
       "0.0132889981539464"
      ],
      "text/markdown": [
       "0.0132889981539464"
      ],
      "text/plain": [
       "[1] 0.013289"
      ]
     },
     "metadata": {},
     "output_type": "display_data"
    },
    {
     "data": {
      "image/png": "[encoded data removed]",
      "text/plain": [
       "plot without title"
      ]
     },
     "metadata": {
      "image/png": {
       "height": 420,
       "width": 420
      }
     },
     "output_type": "display_data"
    }
   ],
   "source": [
    "minimal.ph.rf <- randomForest(ph ~ temp + csal + press + coxy  , data = scaled.hots[splits$train.indices,])\n",
    "\n",
    "minimal.predicted.ph.rf <- predict(minimal.ph.rf, newdata = scaled.hots[splits$test.indices,])\n",
    "minimal.rf.prediction.dat <- scaled.hots[splits$test.indices,]\n",
    "minimal.rf.prediction.dat$preds <- minimal.predicted.ph.rf\n",
    "\n",
    "cor(minimal.rf.prediction.dat$preds, minimal.rf.prediction.dat$ph)\n",
    "CV <- mean(sqrt((minimal.rf.prediction.dat$ph - minimal.rf.prediction.dat$preds)^2))\n",
    "CV\n",
    "\n",
    "p <- ggplot(minimal.rf.prediction.dat) + \n",
    "        geom_point(aes(x = preds, y = ph)) + \n",
    "        geom_abline(slope = 1) +\n",
    "        labs(x = \"Predicted pH \\n (arbitary units)\",\n",
    "             y = \"Observed pH \\n (arbitrary units)\",\n",
    "             title = \"pH Random Forest \\n Cast Data Only\") + \n",
    "        dark_theme_bw(base_size = 12) +\n",
    "        annotate(\"text\", x = -1, y = 1, \n",
    "                 label = paste0(\"Mean Error %:\\n\",round(CV*100, digits=3) ))\n",
    "p\n",
    "# ggsave(\"pH_accuracy_RF_cast_data.svg\", p, width = 89, height = 89, units = \"mm\")"
   ]
  },
  {
   "cell_type": "code",
   "execution_count": 25,
   "metadata": {},
   "outputs": [
    {
     "data": {
      "text/html": [
       "0.999757374302658"
      ],
      "text/latex": [
       "0.999757374302658"
      ],
      "text/markdown": [
       "0.999757374302658"
      ],
      "text/plain": [
       "[1] 0.9997574"
      ]
     },
     "metadata": {},
     "output_type": "display_data"
    },
    {
     "data": {
      "text/html": [
       "0.0150915974419808"
      ],
      "text/latex": [
       "0.0150915974419808"
      ],
      "text/markdown": [
       "0.0150915974419808"
      ],
      "text/plain": [
       "[1] 0.0150916"
      ]
     },
     "metadata": {},
     "output_type": "display_data"
    },
    {
     "data": {
      "image/png": "[encoded data removed]",
      "text/plain": [
       "plot without title"
      ]
     },
     "metadata": {
      "image/png": {
       "height": 420,
       "width": 420
      }
     },
     "output_type": "display_data"
    }
   ],
   "source": [
    "minimal.dic.rf <- randomForest(dic ~ temp + csal + press + coxy  , data = scaled.hots[splits$train.indices,])\n",
    "minimal.predicted.dic.rf <- predict(minimal.dic.rf, newdata = scaled.hots[splits$test.indices,])\n",
    "minimal.rf.prediction.dat <- scaled.hots[splits$test.indices,]\n",
    "minimal.rf.prediction.dat$preds <- minimal.predicted.dic.rf\n",
    "\n",
    "cor(minimal.rf.prediction.dat$preds, minimal.rf.prediction.dat$dic)\n",
    "CV <- mean(sqrt((minimal.rf.prediction.dat$dic - minimal.rf.prediction.dat$preds)^2))\n",
    "CV\n",
    "\n",
    "p <- ggplot(minimal.rf.prediction.dat) + \n",
    "        geom_point(aes(x = preds, y = dic)) + \n",
    "        geom_abline(slope = 1) +\n",
    "        labs(x = \"Predicted DIC \\n (arbitary units)\",\n",
    "             y = \"Observed DIC \\n (arbitrary units)\",\n",
    "             title = \"DIC Random Forest \\n Cast Data Only\") + \n",
    "        dark_theme_bw(base_size = 12) +\n",
    "        annotate(\"text\", x = -0.8, y = 1, \n",
    "                 label = paste0(\"Mean Error %:\\n\",round(CV*100, digits=3) )) \n",
    "p\n",
    "# ggsave(\"DIC_accuracy_RF_cast_data.svg\", p, width = 89, height = 89, units = \"mm\")"
   ]
  },
  {
   "cell_type": "markdown",
   "metadata": {},
   "source": [
    "## Much better than the glm, a couple outliers, but this looks pretty great. Let's see how this does with other variables"
   ]
  },
  {
   "cell_type": "code",
   "execution_count": 26,
   "metadata": {},
   "outputs": [
    {
     "data": {
      "text/html": [
       "<style>\n",
       ".list-inline {list-style: none; margin:0; padding: 0}\n",
       ".list-inline>li {display: inline-block}\n",
       ".list-inline>li:not(:last-child)::after {content: \"\\00b7\"; padding: 0 .5ex}\n",
       "</style>\n",
       "<ol class=list-inline><li>'press'</li><li>'theta'</li><li>'sigma'</li><li>'temp'</li><li>'csal'</li><li>'coxy'</li><li>'dic'</li><li>'ph'</li><li>'alk'</li><li>'phos'</li><li>'nit'</li><li>'sil'</li><li>'doc'</li></ol>\n"
      ],
      "text/latex": [
       "\\begin{enumerate*}\n",
       "\\item 'press'\n",
       "\\item 'theta'\n",
       "\\item 'sigma'\n",
       "\\item 'temp'\n",
       "\\item 'csal'\n",
       "\\item 'coxy'\n",
       "\\item 'dic'\n",
       "\\item 'ph'\n",
       "\\item 'alk'\n",
       "\\item 'phos'\n",
       "\\item 'nit'\n",
       "\\item 'sil'\n",
       "\\item 'doc'\n",
       "\\end{enumerate*}\n"
      ],
      "text/markdown": [
       "1. 'press'\n",
       "2. 'theta'\n",
       "3. 'sigma'\n",
       "4. 'temp'\n",
       "5. 'csal'\n",
       "6. 'coxy'\n",
       "7. 'dic'\n",
       "8. 'ph'\n",
       "9. 'alk'\n",
       "10. 'phos'\n",
       "11. 'nit'\n",
       "12. 'sil'\n",
       "13. 'doc'\n",
       "\n",
       "\n"
      ],
      "text/plain": [
       " [1] \"press\" \"theta\" \"sigma\" \"temp\"  \"csal\"  \"coxy\"  \"dic\"   \"ph\"    \"alk\"  \n",
       "[10] \"phos\"  \"nit\"   \"sil\"   \"doc\"  "
      ]
     },
     "metadata": {},
     "output_type": "display_data"
    }
   ],
   "source": [
    "all.vars <- names(scaled.hots)\n",
    "all.vars"
   ]
  },
  {
   "cell_type": "code",
   "execution_count": 27,
   "metadata": {},
   "outputs": [
    {
     "data": {
      "text/html": [
       "<style>\n",
       ".list-inline {list-style: none; margin:0; padding: 0}\n",
       ".list-inline>li {display: inline-block}\n",
       ".list-inline>li:not(:last-child)::after {content: \"\\00b7\"; padding: 0 .5ex}\n",
       "</style>\n",
       "<ol class=list-inline><li>'theta'</li><li>'sigma'</li><li>'dic'</li><li>'ph'</li><li>'alk'</li><li>'phos'</li><li>'nit'</li><li>'sil'</li><li>'doc'</li></ol>\n"
      ],
      "text/latex": [
       "\\begin{enumerate*}\n",
       "\\item 'theta'\n",
       "\\item 'sigma'\n",
       "\\item 'dic'\n",
       "\\item 'ph'\n",
       "\\item 'alk'\n",
       "\\item 'phos'\n",
       "\\item 'nit'\n",
       "\\item 'sil'\n",
       "\\item 'doc'\n",
       "\\end{enumerate*}\n"
      ],
      "text/markdown": [
       "1. 'theta'\n",
       "2. 'sigma'\n",
       "3. 'dic'\n",
       "4. 'ph'\n",
       "5. 'alk'\n",
       "6. 'phos'\n",
       "7. 'nit'\n",
       "8. 'sil'\n",
       "9. 'doc'\n",
       "\n",
       "\n"
      ],
      "text/plain": [
       "[1] \"theta\" \"sigma\" \"dic\"   \"ph\"    \"alk\"   \"phos\"  \"nit\"   \"sil\"   \"doc\"  "
      ]
     },
     "metadata": {},
     "output_type": "display_data"
    },
    {
     "data": {
      "text/html": [
       "<style>\n",
       ".list-inline {list-style: none; margin:0; padding: 0}\n",
       ".list-inline>li {display: inline-block}\n",
       ".list-inline>li:not(:last-child)::after {content: \"\\00b7\"; padding: 0 .5ex}\n",
       "</style>\n",
       "<ol class=list-inline><li>'theta'</li><li>'sigma'</li><li>'dic'</li><li>'ph'</li><li>'alk'</li><li>'phos'</li><li>'nit'</li><li>'sil'</li><li>'doc'</li></ol>\n"
      ],
      "text/latex": [
       "\\begin{enumerate*}\n",
       "\\item 'theta'\n",
       "\\item 'sigma'\n",
       "\\item 'dic'\n",
       "\\item 'ph'\n",
       "\\item 'alk'\n",
       "\\item 'phos'\n",
       "\\item 'nit'\n",
       "\\item 'sil'\n",
       "\\item 'doc'\n",
       "\\end{enumerate*}\n"
      ],
      "text/markdown": [
       "1. 'theta'\n",
       "2. 'sigma'\n",
       "3. 'dic'\n",
       "4. 'ph'\n",
       "5. 'alk'\n",
       "6. 'phos'\n",
       "7. 'nit'\n",
       "8. 'sil'\n",
       "9. 'doc'\n",
       "\n",
       "\n"
      ],
      "text/plain": [
       "[1] \"theta\" \"sigma\" \"dic\"   \"ph\"    \"alk\"   \"phos\"  \"nit\"   \"sil\"   \"doc\"  "
      ]
     },
     "metadata": {},
     "output_type": "display_data"
    }
   ],
   "source": [
    "predictor.vars <- c(\"temp\", \"press\", \"csal\", \"coxy\")\n",
    "measurable.vars <- all.vars[!all.vars %in% predictor.vars]\n",
    "measurable.vars\n",
    "\n",
    "measurable.vars"
   ]
  },
  {
   "cell_type": "code",
   "execution_count": 28,
   "metadata": {},
   "outputs": [],
   "source": [
    "splits <- train.test.split(nrow(scaled.hots), 0.5)\n",
    "get.cv.cor.rf <- function(scaled.hots, splits, measurable.vars, predictor.vars){\n",
    "    \n",
    "    results = data.frame(correlation = c(), cv = c(), variable = c() )\n",
    "    for (var in measurable.vars){\n",
    "        print(var)\n",
    "        flush.console()\n",
    "        predictors = paste(predictor.vars, collapse = \" + \")\n",
    "        form <- formula(paste0(var, \" ~ \",  predictors))\n",
    "        model_save_name = paste0(\"models/RF_\",var, \"_cast_vars.RData\")\n",
    "        model <- randomForest(form, data =scaled.hots[splits$train.indices,])\n",
    "        save(model, file=model_save_name)\n",
    "        predictions <- predict(model, newdata = scaled.hots[splits$test.indices,])\n",
    "        pred.dat <- scaled.hots[splits$test.indices,]\n",
    "        pred.dat$preds <- predictions\n",
    "        \n",
    "        cor.value <- round(cor(pred.dat$preds, pred.dat[,var]), digits = 3)\n",
    "        \n",
    "        CV <- sum(sqrt( (pred.dat$preds - pred.dat[var])^2))/length(pred.dat$preds)\n",
    "        \n",
    "        this.dat <- data.frame(correlation= cor.value, cv= CV, variable = var)\n",
    "        results <- rbind(results, this.dat)\n",
    "                        \n",
    "    }\n",
    "    \n",
    "    return(results)\n",
    "}\n",
    "\n",
    "get.cv.cor.glm <- function(scaled.hots, splits, measurable.vars, predictor.vars){\n",
    "    \n",
    "    results = data.frame(correlation = c(), cv = c(), variable = c() )\n",
    "    for (var in measurable.vars){\n",
    "        print(var)\n",
    "        flush.console()\n",
    "        predictors = paste(predictor.vars, collapse = \" + \")\n",
    "        form <- formula(paste0(var, \" ~ \",  predictors))\n",
    "        model_save_name = paste0(\"models/GLM_\",var, \"_cast_vars.RData\")\n",
    "        model <- glm(form, data =scaled.hots[splits$train.indices,])\n",
    "        save(model,file=model_save_name)\n",
    "        predictions <- predict(model, newdata = scaled.hots[splits$test.indices,])\n",
    "        pred.dat <- scaled.hots[splits$test.indices,]\n",
    "        pred.dat$preds <- predictions\n",
    "        \n",
    "        cor.value <- round(cor(pred.dat$preds, pred.dat[,var]), digits = 3)\n",
    "        \n",
    "        CV <- sum(sqrt( (pred.dat$preds - pred.dat[var])^2))/length(pred.dat$preds)\n",
    "        \n",
    "        this.dat <- data.frame(correlation= cor.value, cv= CV, variable = var)\n",
    "        results <- rbind(results, this.dat)\n",
    "                        \n",
    "    }\n",
    "    \n",
    "    return(results)\n",
    "}"
   ]
  },
  {
   "cell_type": "code",
   "execution_count": 29,
   "metadata": {},
   "outputs": [
    {
     "name": "stdout",
     "output_type": "stream",
     "text": [
      "[1] \"theta\"\n",
      "[1] \"sigma\"\n",
      "[1] \"dic\"\n",
      "[1] \"ph\"\n",
      "[1] \"alk\"\n",
      "[1] \"phos\"\n",
      "[1] \"nit\"\n",
      "[1] \"sil\"\n",
      "[1] \"doc\"\n",
      "[1] \"theta\"\n",
      "[1] \"sigma\"\n",
      "[1] \"dic\"\n",
      "[1] \"ph\"\n",
      "[1] \"alk\"\n",
      "[1] \"phos\"\n",
      "[1] \"nit\"\n",
      "[1] \"sil\"\n",
      "[1] \"doc\"\n"
     ]
    }
   ],
   "source": [
    "cv.corrs.rf <- get.cv.cor.rf(scaled.hots, splits, measurable.vars, predictor.vars)\n",
    "cv.corrs.glm <- get.cv.cor.glm(scaled.hots, splits, measurable.vars, predictor.vars)"
   ]
  },
  {
   "cell_type": "code",
   "execution_count": 30,
   "metadata": {},
   "outputs": [
    {
     "data": {
      "text/html": [
       "<style>\n",
       ".list-inline {list-style: none; margin:0; padding: 0}\n",
       ".list-inline>li {display: inline-block}\n",
       ".list-inline>li:not(:last-child)::after {content: \"\\00b7\"; padding: 0 .5ex}\n",
       "</style>\n",
       "<ol class=list-inline><li>'correlation'</li><li>'cv'</li><li>'variable'</li></ol>\n"
      ],
      "text/latex": [
       "\\begin{enumerate*}\n",
       "\\item 'correlation'\n",
       "\\item 'cv'\n",
       "\\item 'variable'\n",
       "\\end{enumerate*}\n"
      ],
      "text/markdown": [
       "1. 'correlation'\n",
       "2. 'cv'\n",
       "3. 'variable'\n",
       "\n",
       "\n"
      ],
      "text/plain": [
       "[1] \"correlation\" \"cv\"          \"variable\"   "
      ]
     },
     "metadata": {},
     "output_type": "display_data"
    },
    {
     "data": {
      "text/html": [
       "<style>\n",
       ".list-inline {list-style: none; margin:0; padding: 0}\n",
       ".list-inline>li {display: inline-block}\n",
       ".list-inline>li:not(:last-child)::after {content: \"\\00b7\"; padding: 0 .5ex}\n",
       "</style>\n",
       "<ol class=list-inline><li>'correlation'</li><li>'cv'</li><li>'variable'</li></ol>\n"
      ],
      "text/latex": [
       "\\begin{enumerate*}\n",
       "\\item 'correlation'\n",
       "\\item 'cv'\n",
       "\\item 'variable'\n",
       "\\end{enumerate*}\n"
      ],
      "text/markdown": [
       "1. 'correlation'\n",
       "2. 'cv'\n",
       "3. 'variable'\n",
       "\n",
       "\n"
      ],
      "text/plain": [
       "[1] \"correlation\" \"cv\"          \"variable\"   "
      ]
     },
     "metadata": {},
     "output_type": "display_data"
    }
   ],
   "source": [
    "cv.corrs.rf$cv <- round(cv.corrs.rf$cv*100.0, digits = 3)\n",
    "cv.corrs.glm$cv <- round(cv.corrs.glm$cv*100.0, digits = 3)\n",
    "names(cv.corrs.rf)\n",
    "names(cv.corrs.glm)"
   ]
  },
  {
   "cell_type": "code",
   "execution_count": 31,
   "metadata": {},
   "outputs": [
    {
     "data": {
      "text/html": [
       "'C:/Users/cmathis6/Desktop/HOTS-Fix/notebooks/RF_Prediction_Accuracy_Cast_Data.jpeg'"
      ],
      "text/latex": [
       "'C:/Users/cmathis6/Desktop/HOTS-Fix/notebooks/RF\\_Prediction\\_Accuracy\\_Cast\\_Data.jpeg'"
      ],
      "text/markdown": [
       "'C:/Users/cmathis6/Desktop/HOTS-Fix/notebooks/RF_Prediction_Accuracy_Cast_Data.jpeg'"
      ],
      "text/plain": [
       "[1] \"C:/Users/cmathis6/Desktop/HOTS-Fix/notebooks/RF_Prediction_Accuracy_Cast_Data.jpeg\""
      ]
     },
     "metadata": {},
     "output_type": "display_data"
    }
   ],
   "source": [
    "names(cv.corrs.rf) <- c(\"Correlation Coef\", \"Cross-Validation Error (%)\", \"Variable\")\n",
    "cv.corrs.rf <- cv.corrs.rf[,c(\"Variable\", \"Correlation Coef\", \"Cross-Validation Error (%)\")]\n",
    "rf.ft <- flextable(cv.corrs.rf)\n",
    "rf.ft <- theme_tron(rf.ft)\n",
    "rf.ft <- add_header_lines(rf.ft, \"Random Forest Accuracy \\n Cast Measurements\")\n",
    "save_as_image(rf.ft, path = \"RF_Prediction_Accuracy_Cast_Data.jpeg\")"
   ]
  },
  {
   "cell_type": "code",
   "execution_count": 32,
   "metadata": {},
   "outputs": [
    {
     "data": {
      "text/html": [
       "'C:/Users/cmathis6/Desktop/HOTS-Fix/notebooks/GLM_Prediction_Accuracy_Cast_Data.jpeg'"
      ],
      "text/latex": [
       "'C:/Users/cmathis6/Desktop/HOTS-Fix/notebooks/GLM\\_Prediction\\_Accuracy\\_Cast\\_Data.jpeg'"
      ],
      "text/markdown": [
       "'C:/Users/cmathis6/Desktop/HOTS-Fix/notebooks/GLM_Prediction_Accuracy_Cast_Data.jpeg'"
      ],
      "text/plain": [
       "[1] \"C:/Users/cmathis6/Desktop/HOTS-Fix/notebooks/GLM_Prediction_Accuracy_Cast_Data.jpeg\""
      ]
     },
     "metadata": {},
     "output_type": "display_data"
    }
   ],
   "source": [
    "names(cv.corrs.glm) <- c(\"Correlation Coef\", \"Cross-Validation Error (%)\", \"Variable\")\n",
    "cv.corrs.glm <- cv.corrs.glm[,c(\"Variable\", \"Correlation Coef\", \"Cross-Validation Error (%)\")]\n",
    "glm.ft <- flextable(cv.corrs.glm)\n",
    "glm.ft <- theme_tron(glm.ft)\n",
    "glm.ft <- add_header_lines(glm.ft, \"GLM Accuracy \\n Cast Measurements\")\n",
    "save_as_image(glm.ft, path = \"GLM_Prediction_Accuracy_Cast_Data.jpeg\")"
   ]
  },
  {
   "cell_type": "code",
   "execution_count": null,
   "metadata": {},
   "outputs": [],
   "source": []
  },
  {
   "cell_type": "code",
   "execution_count": null,
   "metadata": {},
   "outputs": [],
   "source": []
  },
  {
   "cell_type": "code",
   "execution_count": null,
   "metadata": {},
   "outputs": [],
   "source": []
  }
 ],
 "metadata": {
  "kernelspec": {
   "display_name": "R",
   "language": "R",
   "name": "ir"
  },
  "language_info": {
   "codemirror_mode": "r",
   "file_extension": ".r",
   "mimetype": "text/x-r-source",
   "name": "R",
   "pygments_lexer": "r",
   "version": "4.1.1"
  }
 },
 "nbformat": 4,
 "nbformat_minor": 4
}
